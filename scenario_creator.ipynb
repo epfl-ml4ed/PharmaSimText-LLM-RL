{
 "cells": [
  {
   "cell_type": "code",
   "execution_count": null,
   "outputs": [],
   "source": [
    "import json\n",
    "import os\n",
    "import numpy as np\n",
    "import copy\n",
    "import pandas as pd\n",
    "from scenario_helper import rewrite_sentence"
   ],
   "metadata": {
    "collapsed": false
   },
   "id": "initial_id"
  },
  {
   "cell_type": "code",
   "execution_count": null,
   "outputs": [],
   "source": [],
   "metadata": {
    "collapsed": false
   },
   "id": "db8b1c9370bcf137"
  },
  {
   "cell_type": "code",
   "execution_count": null,
   "outputs": [],
   "source": [
    "temp = json.load(open(\"./scenarios/patients/gm.json\"))"
   ],
   "metadata": {
    "collapsed": false
   },
   "id": "5dad3c3681cc1b45"
  },
  {
   "cell_type": "code",
   "execution_count": null,
   "outputs": [],
   "source": [
    "available_scenarios = os.listdir(\"./scenarios/new_scenarios\")"
   ],
   "metadata": {
    "collapsed": false
   },
   "id": "d74dedfb82a7a3a1"
  },
  {
   "cell_type": "code",
   "execution_count": null,
   "outputs": [],
   "source": [
    "available_scenarios"
   ],
   "metadata": {
    "collapsed": false
   },
   "id": "1f36ee9a8ad78276"
  },
  {
   "cell_type": "code",
   "execution_count": null,
   "outputs": [],
   "source": [
    "available_scenarios = [available_scenarios[available_scenarios.index(\"eye_problems\")]]"
   ],
   "metadata": {
    "collapsed": false
   },
   "id": "e4db547225066989"
  },
  {
   "cell_type": "code",
   "execution_count": null,
   "outputs": [],
   "source": [
    "s2ss={}"
   ],
   "metadata": {
    "collapsed": false
   },
   "id": "624decccf3469804"
  },
  {
   "cell_type": "code",
   "execution_count": null,
   "outputs": [],
   "source": [
    "for scenario in available_scenarios:\n",
    "    print(scenario)\n",
    "    scenario_path = os.path.join(\"./scenarios/new_scenarios\", scenario)\n",
    "    key_mapping = pd.read_csv(os.path.join(scenario_path, \"key_mapping.csv\"), quotechar='\"')\n",
    "    key_mapping.columns = key_mapping.columns.str.strip()\n",
    "    key_responses = pd.read_csv(os.path.join(scenario_path, \"key_responses.csv\"), quotechar='\"')\n",
    "    mapping_dict = dict(zip(key_responses.iloc[:,0], key_responses.iloc[:,1]))\n",
    "    for col in key_mapping.columns[1:]:\n",
    "        key_mapping[col] = key_mapping[col].map(mapping_dict)\n",
    "    key_mapping.columns = [\"question\"] + key_mapping.columns[1:].tolist()\n",
    "    #########################\n",
    "    baby_mapping = pd.read_csv(os.path.join(scenario_path, \"baby_mapping.csv\"), quotechar='\"')\n",
    "    baby_mapping.columns = baby_mapping.columns.str.strip()\n",
    "    baby_responses = pd.read_csv(os.path.join(scenario_path, \"baby_responses.csv\"), quotechar='\"')\n",
    "    mapping_dict = dict(zip(baby_responses.iloc[:,0], baby_responses.iloc[:,1]))\n",
    "    for col in baby_mapping.columns[1:]:\n",
    "        baby_mapping[col] = baby_mapping[col].map(mapping_dict)\n",
    "    baby_mapping.columns = [\"question\"] + baby_mapping.columns[1:].tolist()\n",
    "    baby_qa = baby_mapping.set_index(\"question\")\n",
    "    ################\n",
    "    mapping = pd.read_csv(os.path.join(scenario_path, \"mapping.csv\"), quotechar='\"')\n",
    "    mapping.columns = mapping.columns.str.strip()\n",
    "    responses = pd.read_csv(os.path.join(scenario_path, \"responses.csv\"), quotechar='\"')\n",
    "    mapping_dict = dict(zip(responses.iloc[:,0], responses.iloc[:,1]))\n",
    "    for col in mapping.columns[1:]:\n",
    "        mapping[col] = mapping[col].map(mapping_dict)\n",
    "    mapping.columns = [\"question\"] + mapping.columns[1:].tolist()\n",
    "    ###################\n",
    "    merged_df = pd.concat([mapping, key_mapping], axis=0, ignore_index=True)\n",
    "    qa = merged_df.set_index(\"question\")\n",
    "    qa.columns = qa.columns.str.strip()\n",
    "    meta = json.load(open(os.path.join(scenario_path, \"meta.json\")))\n",
    "    task_name = meta[\"task_name\"]\n",
    "    problem = meta[\"problem\"]\n",
    "    subject = meta[\"subject\"]\n",
    "    causes = meta[\"illnesses\"]\n",
    "    relevant_characters = meta[\"relevant_characters\"]\n",
    "    characters = relevant_characters + [\"others\"]\n",
    "    chars = meta[\"characters\"]\n",
    "    initial_state = [\n",
    "            \"interaction\",\n",
    "            f\"{subject} have {problem}. can you help?\"\n",
    "        ]\n",
    "    subjects = characters\n",
    "    topics = list(set(list(mapping.iloc[:, 0].values) + list(key_mapping.iloc[:, 0].values)+ list(baby_mapping.iloc[:, 0].values)) )\n",
    "    relevant_actions = []\n",
    "    for q in list(key_mapping.iloc[:, 0].values):\n",
    "        relevant_actions.append({\n",
    "                \"type\": \"interaction\",\n",
    "                \"part\": \"discuss\",\n",
    "                \"detail\": f\"customer,{q}\",\n",
    "                \"sentence\": f\"i want to know about the customer 's {q}.\"\n",
    "            })\n",
    "    for q in [\"Latching\",\n",
    "\"Feeding Behavior\",\n",
    "\"Oral Examination\"]:\n",
    "        relevant_actions.append({\n",
    "                \"type\": \"interaction\",\n",
    "                \"part\": \"discuss\",\n",
    "                \"detail\": f\"customer's child,{q}\",\n",
    "                \"sentence\": f\"i want to know about the customer's child 's {q}.\"\n",
    "            })\n",
    "    posttest_actions = []\n",
    "    for c in causes:\n",
    "        posttest_actions.append({\n",
    "                    \"type\": \"posttest\",\n",
    "                    \"part\": \"\",\n",
    "                    \"detail\": \"\",\n",
    "                    \"sentence\": c\n",
    "                })\n",
    "    interaction = [{\n",
    "                \"type\": \"interaction\",\n",
    "                \"part\": \"solution\",\n",
    "                \"detail\": \"\",\n",
    "                \"sentence\": \"i want to suggest a solution.\"\n",
    "            }]\n",
    "    for c in chars:\n",
    "        for t in topics:\n",
    "            interaction.append({\n",
    "                \"type\": \"interaction\",\n",
    "                \"part\": \"discuss\",\n",
    "                \"detail\": f\"{c},{t}\",\n",
    "                \"sentence\": f\"i want to know about the {c} 's {t}.\"\n",
    "            })\n",
    "    temp[\"initial_state\"] = initial_state\n",
    "    temp[\"subjects\"] = subjects\n",
    "    temp[\"problem\"] = problem\n",
    "    temp[\"topics\"] = topics\n",
    "    temp[\"causes\"] = causes\n",
    "    temp[\"relevant_actions\"] = relevant_actions \n",
    "    temp[\"posttest_actions\"][\"cause\"] = posttest_actions\n",
    "    temp[\"interaction\"] = interaction\n",
    "    json.dump(temp, open(os.path.join(\"./scenarios/patients\", f\"{task_name}.json\"), \"w\"), indent=4)\n",
    "    scenarios = [] \n",
    "    for c in qa.columns.tolist():\n",
    "        print(c)\n",
    "        s = copy.deepcopy(temp[\"scenarios\"][0])\n",
    "        s[\"question_answers\"] = {}\n",
    "        s[\"name\"] = c\n",
    "        s[\"posttest_as\"][\"cause\"]=[{\n",
    "                    \"type\": \"posttest\",\n",
    "                    \"part\": \"\",\n",
    "                    \"detail\": \"\",\n",
    "                    \"sentence\": c\n",
    "                }]\n",
    "        for char in chars:\n",
    "            if char not in s[\"question_answers\"]:\n",
    "                s[\"question_answers\"][char] = {}\n",
    "            for q in topics:\n",
    "                if char not in relevant_characters and char != \"customer's child\":\n",
    "                    s[\"question_answers\"][char][q] = [\"I don't understand how this is relevant.\"]\n",
    "                elif char == \"customer's child\":\n",
    "                    if q not in baby_qa.index:\n",
    "                        s[\"question_answers\"][char][q] = [\"I don't understand how this is relevant.\"]\n",
    "                    else:\n",
    "                        answer = baby_qa.loc[q, c]\n",
    "                        if not isinstance(answer,str):\n",
    "                            answer = answer.values[0]\n",
    "                        if answer not in s2ss.keys():\n",
    "                            s2ss[answer] = rewrite_sentence(answer)\n",
    "                        s[\"question_answers\"][char][q] = s2ss[answer]\n",
    "                else:\n",
    "                    if q not in qa.index:\n",
    "                        s[\"question_answers\"][char][q] = [\"I don't understand how this is relevant.\"]\n",
    "                    else:\n",
    "                        print(qa[c][q])\n",
    "                        answer = qa[c][q]\n",
    "                        if not isinstance(qa[c][q],str):\n",
    "                            answer = qa[c][q].values[0]\n",
    "                        if answer not in s2ss.keys():\n",
    "                            s2ss[answer] = rewrite_sentence(answer)\n",
    "                        s[\"question_answers\"][char][q] = s2ss[answer]\n",
    "                        print(q)\n",
    "        scenarios.append(s)\n",
    "    temp[\"scenarios\"] = scenarios\n",
    "    json.dump(temp, open(os.path.join(\"./scenarios/patients\", f\"{task_name}.json\"), \"w\"), indent=4)\n",
    "\n",
    "\n",
    "    #     \n",
    "\n",
    "\n",
    "\n"
   ],
   "metadata": {
    "collapsed": false
   },
   "id": "1f43a8af25cda20d"
  },
  {
   "cell_type": "code",
   "execution_count": null,
   "outputs": [],
   "source": [],
   "metadata": {
    "collapsed": false
   },
   "id": "ce8f17683c917c1e"
  },
  {
   "cell_type": "code",
   "execution_count": null,
   "outputs": [],
   "source": [
    "for scenario in available_scenarios:\n",
    "    print(scenario)\n",
    "    scenario_path = os.path.join(\"./scenarios/new_scenarios\", scenario)\n",
    "    key_mapping = pd.read_csv(os.path.join(scenario_path, \"key_mapping.csv\"), quotechar='\"')\n",
    "    key_mapping.columns = key_mapping.columns.str.strip()\n",
    "    key_responses = pd.read_csv(os.path.join(scenario_path, \"key_responses.csv\"), quotechar='\"')\n",
    "    mapping_dict = dict(zip(key_responses.iloc[:,0], key_responses.iloc[:,1]))\n",
    "    for col in key_mapping.columns[1:]:\n",
    "        key_mapping[col] = key_mapping[col].map(mapping_dict)\n",
    "    key_mapping.columns = [\"question\"] + key_mapping.columns[1:].tolist()\n",
    "    mapping = pd.read_csv(os.path.join(scenario_path, \"mapping.csv\"), quotechar='\"')\n",
    "    mapping.columns = mapping.columns.str.strip()\n",
    "    responses = pd.read_csv(os.path.join(scenario_path, \"responses.csv\"), quotechar='\"')\n",
    "    mapping_dict = dict(zip(responses.iloc[:,0], responses.iloc[:,1]))\n",
    "    \n",
    "    for col in mapping.columns[1:]:\n",
    "        mapping[col] = mapping[col].map(mapping_dict)\n",
    "    mapping.columns = [\"question\"] + mapping.columns[1:].tolist()\n",
    "    merged_df = pd.concat([mapping, key_mapping], axis=0, ignore_index=True)\n",
    "    qa = merged_df.set_index(\"question\")\n",
    "    qa.columns = qa.columns.str.strip()\n",
    "    meta = json.load(open(os.path.join(scenario_path, \"meta.json\")))\n",
    "    task_name = meta[\"task_name\"]\n",
    "    problem = meta[\"problem\"]\n",
    "    subject = meta[\"subject\"]\n",
    "    causes = meta[\"illnesses\"]\n",
    "    relevant_characters = meta[\"relevant_characters\"]\n",
    "    characters = relevant_characters + [\"others\"]\n",
    "    chars = meta[\"characters\"]\n",
    "    initial_state = [\n",
    "            \"interaction\",\n",
    "            f\"{subject} have {problem}. can you help?\"\n",
    "        ]\n",
    "    subjects = characters\n",
    "    topics = list(set(list(mapping.iloc[:, 0].values) + list(key_mapping.iloc[:, 0].values)))\n",
    "    relevant_actions = []\n",
    "    for q in list(key_mapping.iloc[:, 0].values):\n",
    "        relevant_actions.append({\n",
    "                \"type\": \"interaction\",\n",
    "                \"part\": \"discuss\",\n",
    "                \"detail\": f\"customer,{q}\",\n",
    "                \"sentence\": f\"i want to know about the customer 's {q}.\"\n",
    "            })\n",
    "    posttest_actions = []\n",
    "    for c in causes:\n",
    "        posttest_actions.append({\n",
    "                    \"type\": \"posttest\",\n",
    "                    \"part\": \"\",\n",
    "                    \"detail\": \"\",\n",
    "                    \"sentence\": c\n",
    "                })\n",
    "    interaction = [{\n",
    "                \"type\": \"interaction\",\n",
    "                \"part\": \"solution\",\n",
    "                \"detail\": \"\",\n",
    "                \"sentence\": \"i want to suggest a solution.\"\n",
    "            }]\n",
    "    for c in chars:\n",
    "        for t in topics:\n",
    "            interaction.append({\n",
    "                \"type\": \"interaction\",\n",
    "                \"part\": \"discuss\",\n",
    "                \"detail\": f\"{c},{t}\",\n",
    "                \"sentence\": f\"i want to know about the {c} 's {t}.\"\n",
    "            })\n",
    "    temp[\"initial_state\"] = initial_state\n",
    "    temp[\"subjects\"] = subjects\n",
    "    temp[\"problem\"] = problem\n",
    "    temp[\"topics\"] = topics\n",
    "    temp[\"causes\"] = causes\n",
    "    temp[\"relevant_actions\"] = relevant_actions \n",
    "    temp[\"posttest_actions\"][\"cause\"] = posttest_actions\n",
    "    temp[\"interaction\"] = interaction\n",
    "    json.dump(temp, open(os.path.join(\"./scenarios/patients\", f\"{task_name}.json\"), \"w\"), indent=4)\n",
    "    scenarios = [] \n",
    "    for c in qa.columns.tolist():\n",
    "        print(c)\n",
    "        s = copy.deepcopy(temp[\"scenarios\"][0])\n",
    "        s[\"question_answers\"] = {}\n",
    "        s[\"name\"] = c\n",
    "        s[\"posttest_as\"][\"cause\"]=[{\n",
    "                    \"type\": \"posttest\",\n",
    "                    \"part\": \"\",\n",
    "                    \"detail\": \"\",\n",
    "                    \"sentence\": c\n",
    "                }]\n",
    "        for char in chars:\n",
    "            if char not in s[\"question_answers\"]:\n",
    "                s[\"question_answers\"][char] = {}\n",
    "            for q in topics:\n",
    "                if char not in relevant_characters:\n",
    "                    s[\"question_answers\"][char][q] = [\"I don't understand how this is relevant.\"]\n",
    "                else:\n",
    "                    print(q)\n",
    "                    if q not in qa.index:\n",
    "                        s[\"question_answers\"][char][q] = [\"I don't understand how this is relevant.\"]\n",
    "                    else:\n",
    "                        print(qa[c][q])\n",
    "                        answer = qa[c][q]\n",
    "                        if not isinstance(qa[c][q],str):\n",
    "                            answer = qa[c][q].values[0]\n",
    "                        if answer not in s2ss.keys():\n",
    "                            s2ss[answer] = rewrite_sentence(answer)\n",
    "                        s[\"question_answers\"][char][q] = s2ss[answer]\n",
    "                        print(q)\n",
    "        scenarios.append(s)\n",
    "    temp[\"scenarios\"] = scenarios\n",
    "    json.dump(temp, open(os.path.join(\"./scenarios/patients\", f\"{task_name}.json\"), \"w\"), indent=4)\n",
    "   \n",
    "\n",
    "    #     \n",
    "        \n",
    "        \n",
    "    \n",
    "    "
   ],
   "metadata": {
    "collapsed": false
   },
   "id": "ceeecf112c748f73"
  },
  {
   "cell_type": "code",
   "execution_count": null,
   "outputs": [],
   "source": [
    "merged_df\n"
   ],
   "metadata": {
    "collapsed": false
   },
   "id": "43c8da0184b6db2f"
  },
  {
   "cell_type": "code",
   "execution_count": null,
   "outputs": [],
   "source": [
    "json.load(open(os.path.join(\"./scenarios/patients\", f\"{task_name}.json\"))"
   ],
   "metadata": {
    "collapsed": false
   },
   "id": "518ea0584b3ce583"
  },
  {
   "cell_type": "code",
   "execution_count": null,
   "outputs": [],
   "source": [
    "qa"
   ],
   "metadata": {
    "collapsed": false
   },
   "id": "400421f7dbf8d63e"
  },
  {
   "cell_type": "code",
   "execution_count": null,
   "outputs": [],
   "source": [
    "mapping"
   ],
   "metadata": {
    "collapsed": false
   },
   "id": "6995c2eecc633d93"
  },
  {
   "cell_type": "code",
   "execution_count": null,
   "outputs": [],
   "source": [],
   "metadata": {
    "collapsed": false
   },
   "id": "9e8670a7a4d38828"
  }
 ],
 "metadata": {
  "kernelspec": {
   "display_name": "Python 3",
   "language": "python",
   "name": "python3"
  },
  "language_info": {
   "codemirror_mode": {
    "name": "ipython",
    "version": 2
   },
   "file_extension": ".py",
   "mimetype": "text/x-python",
   "name": "python",
   "nbconvert_exporter": "python",
   "pygments_lexer": "ipython2",
   "version": "2.7.6"
  }
 },
 "nbformat": 4,
 "nbformat_minor": 5
}
